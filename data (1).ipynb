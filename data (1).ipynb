{
 "cells": [
  {
   "cell_type": "code",
   "execution_count": null,
   "id": "dfdb2a72-c134-417e-b364-c7aa881c53c9",
   "metadata": {},
   "outputs": [],
   "source": [
    "!pip install nltk"
   ]
  },
  {
   "cell_type": "code",
   "execution_count": null,
   "id": "22d997be-1c4e-4136-946f-3b47c3b0d057",
   "metadata": {},
   "outputs": [],
   "source": [
    "import nltk\n",
    "nltk.download()"
   ]
  },
  {
   "cell_type": "code",
   "execution_count": null,
   "id": "84be780a-f2da-482e-ac38-01fe180814bd",
   "metadata": {},
   "outputs": [],
   "source": [
    "input = \"Barack Obama went as a prime minister of USA in the year of 2015 . PM MODI is the prime minister of INDIA.\"\n",
    "print(input)"
   ]
  },
  {
   "cell_type": "code",
   "execution_count": null,
   "id": "0bab8cae-ded2-4903-bec4-f2dfde2ca61a",
   "metadata": {},
   "outputs": [],
   "source": [
    "#(1)lowercase\n",
    "lowercase = input.lower()\n",
    "print(\"LOWERCSE = \", lowercase)\n",
    "\n",
    "#re\n",
    "#pip install re\n",
    "import re\n",
    "lowercase_re = re.sub('2015', '2025', lowercase)\n",
    "print(\"REGULAR EXP1 = \", lowercase_re)\n",
    "lowercase_re = re.sub('[a-m]', '*', lowercase)\n",
    "print(\"REGULAR EXP2 = \", lowercase_re)\n",
    "lowercase_re = re.sub('\\d', '-', lowercase)\n",
    "print(\"REGULAR EXP3 = \", lowercase_re)"
   ]
  },
  {
   "cell_type": "code",
   "execution_count": null,
   "id": "34bb092b-1d69-4aa9-abd4-131d9d934c36",
   "metadata": {},
   "outputs": [],
   "source": [
    "#(2)Tokenization\n",
    "import nltk\n",
    "from nltk import word_tokenize, sent_tokenize\n",
    "\n",
    "word_tokens = word_tokenize(input)\n",
    "print(\"WORD TOKENS = \", word_tokens)\n",
    "print(len(word_tokens))\n",
    "sent_tokens = sent_tokenize(input)\n",
    "print(\"SENT TOKENS = \", sent_tokens)\n",
    "print(len(sent_tokens))"
   ]
  },
  {
   "cell_type": "code",
   "execution_count": null,
   "id": "a15a5f9e-6468-4df9-b139-ae37b404df67",
   "metadata": {},
   "outputs": [],
   "source": [
    "#(3)stopwords Removal\n",
    "from nltk.corpus import stopwords\n",
    "#print(stopwords.fileids())\n",
    "stopwords = set(stopwords.words('english'))\n",
    "#print(\"\\n\", stopwords)\n",
    "\n",
    "tokens_stopwords = []\n",
    "for token in word_tokens:\n",
    "    if token not in stopwords:\n",
    "        tokens_stopwords.append(token)\n",
    "print(' '.join(tokens_stopwords))"
   ]
  },
  {
   "cell_type": "code",
   "execution_count": null,
   "id": "2897d3f7-fb88-4ac4-a37e-68005f9f7bac",
   "metadata": {},
   "outputs": [],
   "source": [
    "#Stemmer\n",
    "stemming = []\n",
    "from nltk import PorterStemmer\n",
    "for word in tokens_stopwords:\n",
    "    stemming.append(PorterStemmer().stem(word))\n",
    "print(stemming)"
   ]
  },
  {
   "cell_type": "code",
   "execution_count": null,
   "id": "f849b2a4-4a9a-4f12-9859-fe441b343af1",
   "metadata": {},
   "outputs": [],
   "source": [
    "#Lemmatizer\n",
    "from nltk import WordNetLemmatizer\n",
    "lma = []\n",
    "for word in tokens_stopwords:\n",
    "    lma.append(WordNetLemmatizer().lemmatize(word))\n",
    "print(lma)"
   ]
  },
  {
   "cell_type": "code",
   "execution_count": null,
   "id": "5c67a677-3a79-4167-982e-6edb592803bf",
   "metadata": {},
   "outputs": [],
   "source": [
    "#POS Tags\n",
    "from nltk import pos_tag\n",
    "print(pos_tag(word_tokens))"
   ]
  },
  {
   "cell_type": "code",
   "execution_count": null,
   "id": "06f44a50-86ca-4760-a2fe-162ff8aa59b5",
   "metadata": {},
   "outputs": [],
   "source": [
    "from nltk.corpus import brown \n",
    "brown.words()"
   ]
  },
  {
   "cell_type": "code",
   "execution_count": null,
   "id": "83c5bde8",
   "metadata": {},
   "outputs": [],
   "source": [
    "from nltk.book import *"
   ]
  },
  {
   "cell_type": "code",
   "execution_count": null,
   "id": "bd6512c6",
   "metadata": {},
   "outputs": [],
   "source": [
    "text1"
   ]
  },
  {
   "cell_type": "code",
   "execution_count": null,
   "id": "56f130fd",
   "metadata": {},
   "outputs": [],
   "source": [
    "text2"
   ]
  },
  {
   "cell_type": "code",
   "execution_count": null,
   "id": "fe51c4eb",
   "metadata": {},
   "outputs": [],
   "source": [
    "text1.concordance(\"monstrous\")"
   ]
  },
  {
   "cell_type": "code",
   "execution_count": null,
   "id": "95092cac",
   "metadata": {},
   "outputs": [],
   "source": [
    "text1.similar(\"monstrous\")"
   ]
  },
  {
   "cell_type": "code",
   "execution_count": null,
   "id": "7662dba5",
   "metadata": {},
   "outputs": [],
   "source": [
    "text2.similar(\"monstrous\")"
   ]
  }
 ],
 "metadata": {
  "kernelspec": {
   "display_name": "Python 3",
   "language": "python",
   "name": "python3"
  },
  "language_info": {
   "codemirror_mode": {
    "name": "ipython",
    "version": 3
   },
   "file_extension": ".py",
   "mimetype": "text/x-python",
   "name": "python",
   "nbconvert_exporter": "python",
   "pygments_lexer": "ipython3",
   "version": "3.13.5"
  }
 },
 "nbformat": 4,
 "nbformat_minor": 5
}
